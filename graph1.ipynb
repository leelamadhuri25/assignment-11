{
  "nbformat": 4,
  "nbformat_minor": 0,
  "metadata": {
    "colab": {
      "name": "graph1.ipynb",
      "provenance": [],
      "collapsed_sections": [],
      "authorship_tag": "ABX9TyNsHHD59tRewXd9nF1DmW7v",
      "include_colab_link": true
    },
    "kernelspec": {
      "name": "python3",
      "display_name": "Python 3"
    }
  },
  "cells": [
    {
      "cell_type": "markdown",
      "metadata": {
        "id": "view-in-github",
        "colab_type": "text"
      },
      "source": [
        "<a href=\"https://colab.research.google.com/github/leelamadhuri25/assignment-11/blob/main/graph1.ipynb\" target=\"_parent\"><img src=\"https://colab.research.google.com/assets/colab-badge.svg\" alt=\"Open In Colab\"/></a>"
      ]
    },
    {
      "cell_type": "code",
      "metadata": {
        "colab": {
          "base_uri": "https://localhost:8080/",
          "height": 1000
        },
        "id": "vj0sincJzhsz",
        "outputId": "ef117a19-374e-469c-886e-3d41a8c230d0"
      },
      "source": [
        "# importing the required module \r\n",
        "import matplotlib.pyplot as plt \r\n",
        "import numpy as np\r\n",
        "# x axis values \r\n",
        "x = [0,1,1,2,2,3,3,4,4,6] \r\n",
        "# corresponding y axis values \r\n",
        "y = [1,1,2,2,1,1,2,2,1,1] \r\n",
        "  \r\n",
        "# plotting the points  \r\n",
        "plt.plot(x, y) \r\n",
        "  \r\n",
        "# naming the x axis \r\n",
        "plt.xlabel('x - axis') \r\n",
        "# naming the y axis \r\n",
        "plt.ylabel('y - axis') \r\n",
        "  \r\n",
        "# function to show the plot \r\n",
        "plt.show()\r\n",
        "\r\n",
        "\r\n",
        "# importing the required module \r\n",
        "import matplotlib.pyplot as plt \r\n",
        "  \r\n",
        "# x axis values \r\n",
        "x = [0,1,1,4,4,6] \r\n",
        "# corresponding y axis values \r\n",
        "y = [2,2,0,0,2,2] \r\n",
        "  \r\n",
        "# plotting the points  \r\n",
        "plt.plot(x, y) \r\n",
        "  \r\n",
        "# naming the x axis \r\n",
        "plt.xlabel('x - axis') \r\n",
        "# naming the y axis \r\n",
        "plt.ylabel('y - axis') \r\n",
        "  \r\n",
        "# function to show the plot \r\n",
        "plt.show()\r\n",
        "\r\n",
        "# importing the required module \r\n",
        "import matplotlib.pyplot as plt \r\n",
        "  \r\n",
        "# x axis values \r\n",
        "x = [0,4,4,6] \r\n",
        "# corresponding y axis values \r\n",
        "y = [2,2,0,0] \r\n",
        "  \r\n",
        "# plotting the points  \r\n",
        "plt.plot(x, y) \r\n",
        "  \r\n",
        "# naming the x axis \r\n",
        "plt.xlabel('x - axis') \r\n",
        "# naming the y axis \r\n",
        "plt.ylabel('y - axis') \r\n",
        "  \r\n",
        "# function to show the plot \r\n",
        "plt.show()\r\n",
        "\r\n",
        "# importing the required module \r\n",
        "import matplotlib.pyplot as plt \r\n",
        "  \r\n",
        "# x axis values \r\n",
        "x = [0,1,1,4,4,5,5,7] \r\n",
        "# corresponding y axis values \r\n",
        "y = [1,1,2,2,1,1,2,2] \r\n",
        "  \r\n",
        "# plotting the points  \r\n",
        "plt.plot(x, y) \r\n",
        "  \r\n",
        "# naming the x axis \r\n",
        "plt.xlabel('x - axis') \r\n",
        "# naming the y axis \r\n",
        "plt.ylabel('y - axis') \r\n",
        "  \r\n",
        "# function to show the plot \r\n",
        "plt.show()\r\n",
        "\r\n",
        "\r\n",
        "\r\n"
      ],
      "execution_count": 4,
      "outputs": [
        {
          "output_type": "display_data",
          "data": {
            "image/png": "[encoded data removed]",
            "text/plain": [
              "<Figure size 432x288 with 1 Axes>"
            ]
          },
          "metadata": {
            "tags": [],
            "needs_background": "light"
          }
        },
        {
          "output_type": "display_data",
          "data": {
            "image/png": "[encoded data removed]",
            "text/plain": [
              "<Figure size 432x288 with 1 Axes>"
            ]
          },
          "metadata": {
            "tags": [],
            "needs_background": "light"
          }
        },
        {
          "output_type": "display_data",
          "data": {
            "image/png": "[encoded data removed]",
            "text/plain": [
              "<Figure size 432x288 with 1 Axes>"
            ]
          },
          "metadata": {
            "tags": [],
            "needs_background": "light"
          }
        },
        {
          "output_type": "display_data",
          "data": {
            "image/png": "[encoded data removed]",
            "text/plain": [
              "<Figure size 432x288 with 1 Axes>"
            ]
          },
          "metadata": {
            "tags": [],
            "needs_background": "light"
          }
        }
      ]
    }
  ]
}